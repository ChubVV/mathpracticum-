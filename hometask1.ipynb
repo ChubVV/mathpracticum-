{
  "nbformat": 4,
  "nbformat_minor": 0,
  "metadata": {
    "colab": {
      "name": "hometask1.ipynb",
      "provenance": [],
      "authorship_tag": "ABX9TyPzzCNtAbIjbkfyz+eYQeM+",
      "include_colab_link": true
    },
    "kernelspec": {
      "name": "python3",
      "display_name": "Python 3"
    },
    "language_info": {
      "name": "python"
    }
  },
  "cells": [
    {
      "cell_type": "markdown",
      "metadata": {
        "id": "view-in-github",
        "colab_type": "text"
      },
      "source": [
        "<a href=\"https://colab.research.google.com/github/ChubVV/mathpracticum-/blob/hometask1/hometask1.ipynb\" target=\"_parent\"><img src=\"https://colab.research.google.com/assets/colab-badge.svg\" alt=\"Open In Colab\"/></a>"
      ]
    },
    {
      "cell_type": "code",
      "metadata": {
        "id": "5SO0UOft3v9U"
      },
      "source": [
        "class Test:\n",
        "    @staticmethod\n",
        "    def assert_equals(a, b, *args, **kwargs):\n",
        "        assert a == b\n",
        "        print('Passed')"
      ],
      "execution_count": null,
      "outputs": []
    },
    {
      "cell_type": "code",
      "metadata": {
        "id": "rwRxM-U53-nO"
      },
      "source": [
        "Problem https://edabit.com/challenge/2zKetgAJp4WRFXiDT (2 point)"
      ],
      "execution_count": null,
      "outputs": []
    },
    {
      "cell_type": "code",
      "metadata": {
        "id": "TivZ1VhU3tj-"
      },
      "source": [
        "def number_length(num):\n",
        "\tstring = str(num)\n",
        "\treturn len(string)"
      ],
      "execution_count": null,
      "outputs": []
    },
    {
      "cell_type": "code",
      "metadata": {
        "id": "WbrZutaR3yEB",
        "colab": {
          "base_uri": "https://localhost:8080/"
        },
        "outputId": "918501e2-8134-4968-b466-186e118705d8"
      },
      "source": [
        "Test.assert_equals(number_length(10), 2)\n",
        "Test.assert_equals(number_length(5000), 4)\n",
        "Test.assert_equals(number_length(0), 1)\n",
        "Test.assert_equals(number_length(4039182), 7)\n",
        "Test.assert_equals(number_length(9999999999999999), 16)\n",
        "Test.assert_equals(number_length(1), 1)\n",
        "Test.assert_equals(number_length(777777777777777777777777777777), 30)"
      ],
      "execution_count": 5,
      "outputs": [
        {
          "output_type": "stream",
          "name": "stdout",
          "text": [
            "Passed\n",
            "Passed\n",
            "Passed\n",
            "Passed\n",
            "Passed\n",
            "Passed\n",
            "Passed\n"
          ]
        }
      ]
    },
    {
      "cell_type": "code",
      "metadata": {
        "id": "_8POmSyO4B8A"
      },
      "source": [
        "Problem https://edabit.com/challenge/cXnkmRdxqJrwdsP4n (1 point)"
      ],
      "execution_count": null,
      "outputs": []
    },
    {
      "cell_type": "code",
      "metadata": {
        "id": "QWg-UDRg4MU1"
      },
      "source": [
        "def dis(price, discount):\n",
        "\t\treturn price * (100 - discount) * 0.01"
      ],
      "execution_count": 6,
      "outputs": []
    },
    {
      "cell_type": "code",
      "metadata": {
        "colab": {
          "base_uri": "https://localhost:8080/"
        },
        "id": "Z6jyocLu4RES",
        "outputId": "0aff982d-71bb-4ce3-bbfd-9fce3d167c59"
      },
      "source": [
        "Test.assert_equals(dis(100, 75), 25)\n",
        "Test.assert_equals(dis(211, 50), 105.5)\n",
        "Test.assert_equals(dis(593, 61), 231.27)\n",
        "Test.assert_equals(dis(1693, 80), 338.6)\n",
        "Test.assert_equals(dis(700, 10), 630)"
      ],
      "execution_count": 7,
      "outputs": [
        {
          "output_type": "stream",
          "name": "stdout",
          "text": [
            "Passed\n",
            "Passed\n",
            "Passed\n",
            "Passed\n",
            "Passed\n"
          ]
        }
      ]
    },
    {
      "cell_type": "code",
      "metadata": {
        "id": "D__Pe5sy4SkW"
      },
      "source": [
        "Problem https://edabit.com/challenge/2RtztnzMDdyAj2MD3 (2 point)"
      ],
      "execution_count": null,
      "outputs": []
    },
    {
      "cell_type": "code",
      "metadata": {
        "id": "zDG7kXw94cE7"
      },
      "source": [
        "def add(n1, n2):\n",
        "\tif (n1 == ''  or n1 == None) or (n2 == '' or n2 == None):\n",
        "\t  return \"Invalid Operation\"\n",
        "\telse:\n",
        "\t\treturn str(int(n1)+int(n2))"
      ],
      "execution_count": 8,
      "outputs": []
    },
    {
      "cell_type": "code",
      "metadata": {
        "colab": {
          "base_uri": "https://localhost:8080/"
        },
        "id": "okjHecmg4g5C",
        "outputId": "c9e8c3d7-b5ff-4a5f-e742-ab7808feb7e4"
      },
      "source": [
        "Test.assert_equals(add(\"91\", \"19\"), \"110\")\n",
        "Test.assert_equals(add(\"123456789\", \"987654322\"), \"1111111111\")\n",
        "Test.assert_equals(add(\"9999999\", \"1\"), \"10000000\")\n",
        "Test.assert_equals(add(\"300\", \"3000\"), \"3300\")\n",
        "Test.assert_equals(add(\"1000\", \"6200\"), \"7200\")\n",
        "Test.assert_equals(add(\"-10\", \"-20\"), \"-30\")\n",
        "Test.assert_equals(add(\"-100\", \"100\"), \"0\")\n",
        "Test.assert_equals(add(\"0\", \"6200\"), \"6200\")\n",
        "Test.assert_equals(add(\"\", \"6\"), \"Invalid Operation\")\n",
        "Test.assert_equals(add(\"\", None), \"Invalid Operation\")\n",
        "Test.assert_equals(add(None, \"23\"), \"Invalid Operation\")\n",
        "Test.assert_equals(add(\"\", \"20\"),\"Invalid Operation\")"
      ],
      "execution_count": 9,
      "outputs": [
        {
          "output_type": "stream",
          "name": "stdout",
          "text": [
            "Passed\n",
            "Passed\n",
            "Passed\n",
            "Passed\n",
            "Passed\n",
            "Passed\n",
            "Passed\n",
            "Passed\n",
            "Passed\n",
            "Passed\n",
            "Passed\n",
            "Passed\n"
          ]
        }
      ]
    },
    {
      "cell_type": "code",
      "metadata": {
        "id": "jZVMfAm84lBh"
      },
      "source": [
        "Problem https://edabit.com/challenge/ta8GBizBNbRGo5iC6 (2 point)"
      ],
      "execution_count": null,
      "outputs": []
    },
    {
      "cell_type": "code",
      "metadata": {
        "id": "-6hLvyNz4wZL"
      },
      "source": [
        "class Calculator:\n",
        "\t# Write methods to add(), subtract(), multiply() and divide()\n",
        "\tdef add(self, n1, n2):\n",
        "\t  return n1 + n2\n",
        "\t\n",
        "\tdef subtract(self, n1, n2):\n",
        "\t\treturn n1 - n2\n",
        "\t\t\n",
        "\tdef multiply(self, n1, n2):\n",
        "\t\treturn n1 * n2\n",
        "\t\n",
        "\tdef divide(self, n1, n2):\n",
        "\t\treturn n1 / n2"
      ],
      "execution_count": 10,
      "outputs": []
    },
    {
      "cell_type": "code",
      "metadata": {
        "colab": {
          "base_uri": "https://localhost:8080/"
        },
        "id": "w4McnHcB4zua",
        "outputId": "bf6c546f-79ce-4f9f-e0a7-5954e10cc901"
      },
      "source": [
        "calculator = Calculator()\n",
        "Test.assert_equals(calculator.add(5,5), 10, \"5 + 5 = 10\")\n",
        "Test.assert_equals(calculator.add(20,5), 25, \"20 + 5 = 25\")\n",
        "Test.assert_equals(calculator.subtract(30,5), 25, \"30 - 5 = 25\")\n",
        "Test.assert_equals(calculator.subtract(100,5), 95, \"100 - 5 = 95\")\n",
        "Test.assert_equals(calculator.multiply(5,5), 25, \"5 * 5 = 25\")\n",
        "Test.assert_equals(calculator.multiply(100,5), 500, \"100 * 5 = 500\")\n",
        "Test.assert_equals(calculator.divide(10,5), 2, \"10 / 5 = 2\")\n",
        "Test.assert_equals(calculator.divide(100,5), 20, \"100 / 5 = 20\")"
      ],
      "execution_count": 11,
      "outputs": [
        {
          "output_type": "stream",
          "name": "stdout",
          "text": [
            "Passed\n",
            "Passed\n",
            "Passed\n",
            "Passed\n",
            "Passed\n",
            "Passed\n",
            "Passed\n",
            "Passed\n"
          ]
        }
      ]
    },
    {
      "cell_type": "code",
      "metadata": {
        "id": "IJDjOIh944be"
      },
      "source": [
        "Problem https://edabit.com/challenge/YfoKQWNeYETb9PYpw (2 point)"
      ],
      "execution_count": null,
      "outputs": []
    },
    {
      "cell_type": "code",
      "metadata": {
        "id": "5pbHfhsZ5FGT"
      },
      "source": [
        "def profit(info):\n",
        "\ttotal_sales = info[\"sell_price\"] * info[\"inventory\"]\n",
        "\ttotal_cost = info[\"cost_price\"] * info[\"inventory\"]\n",
        "\treturn round(total_sales - total_cost)"
      ],
      "execution_count": 12,
      "outputs": []
    },
    {
      "cell_type": "code",
      "metadata": {
        "colab": {
          "base_uri": "https://localhost:8080/"
        },
        "id": "p2gwKM2l5IJq",
        "outputId": "2b7f1770-e3d9-4b0a-8833-1e4b27d477b5"
      },
      "source": [
        "Test.assert_equals(profit({'cost_price': 32.67, 'sell_price': 45.00, 'inventory': 1200}), 14796)\n",
        "Test.assert_equals(profit({'cost_price': 0.1, 'sell_price': 0.18, 'inventory': 259800}), 20784)\n",
        "Test.assert_equals(profit({'cost_price': 185.00, 'sell_price': 299.99, 'inventory': 300}), 34497)\n",
        "Test.assert_equals(profit({'cost_price': 378.11, 'sell_price': 990.00, 'inventory': 99}), 60577)\n",
        "Test.assert_equals(profit({'cost_price': 4.67, 'sell_price': 5.00, 'inventory': 78000}), 25740)\n",
        "Test.assert_equals(profit({'cost_price': 19.87, 'sell_price': 110.00, 'inventory': 350}), 31546)\n",
        "Test.assert_equals(profit({'cost_price': 2.91, 'sell_price': 4.50, 'inventory': 6000}), 9540)\n",
        "Test.assert_equals(profit({'cost_price': 68.01, 'sell_price': 149.99, 'inventory': 500}), 40990)\n",
        "Test.assert_equals(profit({'cost_price': 1.45, 'sell_price': 8.50, 'inventory': 10000}), 70500)\n",
        "Test.assert_equals(profit({'cost_price': 10780, 'sell_price': 34999, 'inventory': 10}), 242190)"
      ],
      "execution_count": 13,
      "outputs": [
        {
          "output_type": "stream",
          "name": "stdout",
          "text": [
            "Passed\n",
            "Passed\n",
            "Passed\n",
            "Passed\n",
            "Passed\n",
            "Passed\n",
            "Passed\n",
            "Passed\n",
            "Passed\n",
            "Passed\n"
          ]
        }
      ]
    },
    {
      "cell_type": "code",
      "metadata": {
        "id": "Y_D3Q2pY5L4G"
      },
      "source": [
        "Problem https://edabit.com/challenge/o2AKq4xy3nfZabKXL (2 point)"
      ],
      "execution_count": null,
      "outputs": []
    },
    {
      "cell_type": "code",
      "metadata": {
        "id": "AVCmTp8G5yCb"
      },
      "source": [
        "def solutions(a, b, c):\n",
        "\tif (b*b - 4*a*c) >0:\n",
        "\t\treturn 2\n",
        "\tif ( b*b - 4*a*c) == 0:\n",
        "\t\treturn 1\n",
        "\telse:\n",
        "\t\treturn 0"
      ],
      "execution_count": 15,
      "outputs": []
    },
    {
      "cell_type": "code",
      "metadata": {
        "colab": {
          "base_uri": "https://localhost:8080/"
        },
        "id": "yFrG0vup51JT",
        "outputId": "5fe9a13d-e9bb-4e7d-eb8e-764feff03186"
      },
      "source": [
        "Test.assert_equals(solutions(1, 0, -1), 2)\n",
        "Test.assert_equals(solutions(1, 0, 0), 1)\n",
        "Test.assert_equals(solutions(1, 0, 1), 0)\n",
        "Test.assert_equals(solutions(200, 420, 800), 0)\n",
        "Test.assert_equals(solutions(200, 420, -800), 2)\n",
        "Test.assert_equals(solutions(1000, 1000, 0), 2)\n",
        "Test.assert_equals(solutions(10000, 400, 4), 1)"
      ],
      "execution_count": 16,
      "outputs": [
        {
          "output_type": "stream",
          "name": "stdout",
          "text": [
            "Passed\n",
            "Passed\n",
            "Passed\n",
            "Passed\n",
            "Passed\n",
            "Passed\n",
            "Passed\n"
          ]
        }
      ]
    },
    {
      "cell_type": "code",
      "metadata": {
        "id": "9tt8_L-j576J"
      },
      "source": [
        "Problem https://edabit.com/challenge/8rEEHcmq8rRaTksd7 (2 point)"
      ],
      "execution_count": null,
      "outputs": []
    },
    {
      "cell_type": "code",
      "metadata": {
        "id": "mSyxrHHl6F0I"
      },
      "source": [
        "def lines_are_parallel(l1, l2):\n",
        "\t  return l1[0]/l1[1]==l2[0]/l2[1]"
      ],
      "execution_count": 17,
      "outputs": []
    },
    {
      "cell_type": "code",
      "metadata": {
        "colab": {
          "base_uri": "https://localhost:8080/"
        },
        "id": "UAfAYXoR6Ia9",
        "outputId": "de8714b9-f9e0-4f9a-8aa1-af8902e9cd92"
      },
      "source": [
        "Test.assert_equals(lines_are_parallel([1,2,3], [1,2,4]), True, \"Given example 1.\")\n",
        "Test.assert_equals(lines_are_parallel([2,4,1], [4,2,1]), False, \"Given example 2.\")\n",
        "Test.assert_equals(lines_are_parallel([0,1,5], [0,1,5]), True, \"Given example 3.\")\n",
        "Test.assert_equals(lines_are_parallel([2,5,0], [20,50,10]), True)\n",
        "Test.assert_equals(lines_are_parallel([2,5,0], [-200,-500,10]), True)\n",
        "Test.assert_equals(lines_are_parallel([400000,1,0], [400000,2,0]), False)\n",
        "Test.assert_equals(lines_are_parallel([800,20,0], [40,20,0]), False)\n",
        "Test.assert_equals(lines_are_parallel([400000,1,0], [800000,2,100000]), True)\n",
        "Test.assert_equals(lines_are_parallel([-5,7,100000], [5,-7,-200000]), True)"
      ],
      "execution_count": 18,
      "outputs": [
        {
          "output_type": "stream",
          "name": "stdout",
          "text": [
            "Passed\n",
            "Passed\n",
            "Passed\n",
            "Passed\n",
            "Passed\n",
            "Passed\n",
            "Passed\n",
            "Passed\n",
            "Passed\n"
          ]
        }
      ]
    },
    {
      "cell_type": "code",
      "metadata": {
        "id": "FDjgbaox6SyZ"
      },
      "source": [
        "Problem https://edabit.com/challenge/MDWFcHCTiJfHmwTFx (2 point)"
      ],
      "execution_count": null,
      "outputs": []
    },
    {
      "cell_type": "code",
      "metadata": {
        "id": "nXF4WXFj6Vdb"
      },
      "source": [
        "def quadratic_equation(a, b, c):\n",
        "\t\treturn (-b+(+b**2-4*a*c)**0.5)/2/a"
      ],
      "execution_count": 19,
      "outputs": []
    },
    {
      "cell_type": "code",
      "metadata": {
        "colab": {
          "base_uri": "https://localhost:8080/"
        },
        "id": "jkiLheL_6bsq",
        "outputId": "aaf8e7a1-bbb4-4b2d-a6bf-912930659a76"
      },
      "source": [
        "Test.assert_equals(quadratic_equation(1, 2, -3), 1)\n",
        "Test.assert_equals(quadratic_equation(2, -7, 3), 3)\n",
        "Test.assert_equals(quadratic_equation(1, -12, -28), 14)"
      ],
      "execution_count": 20,
      "outputs": [
        {
          "output_type": "stream",
          "name": "stdout",
          "text": [
            "Passed\n",
            "Passed\n",
            "Passed\n"
          ]
        }
      ]
    }
  ]
}